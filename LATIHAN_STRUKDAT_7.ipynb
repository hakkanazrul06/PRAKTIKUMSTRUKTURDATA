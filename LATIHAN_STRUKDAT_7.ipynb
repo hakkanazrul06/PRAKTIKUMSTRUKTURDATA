{
  "nbformat": 4,
  "nbformat_minor": 0,
  "metadata": {
    "colab": {
      "provenance": [],
      "authorship_tag": "ABX9TyOJWAjBwogg3gWTiMwatNmE",
      "include_colab_link": true
    },
    "kernelspec": {
      "name": "python3",
      "display_name": "Python 3"
    },
    "language_info": {
      "name": "python"
    }
  },
  "cells": [
    {
      "cell_type": "markdown",
      "metadata": {
        "id": "view-in-github",
        "colab_type": "text"
      },
      "source": [
        "<a href=\"https://colab.research.google.com/github/hakkanazrul06/PRAKTIKUMSTRUKTURDATA/blob/main/LATIHAN_STRUKDAT_7.ipynb\" target=\"_parent\"><img src=\"https://colab.research.google.com/assets/colab-badge.svg\" alt=\"Open In Colab\"/></a>"
      ]
    },
    {
      "cell_type": "code",
      "execution_count": 1,
      "metadata": {
        "id": "8V59CX4oP12G",
        "colab": {
          "base_uri": "https://localhost:8080/"
        },
        "outputId": "2bed33e2-64fd-4357-d127-dc5e28b4a3c4"
      },
      "outputs": [
        {
          "output_type": "stream",
          "name": "stdout",
          "text": [
            "Hasil inorder traversal dari binary tree:\n",
            "4 2 5 1 3 "
          ]
        }
      ],
      "source": [
        "#1\n",
        "class Node:\n",
        "    def __init__(self, data):\n",
        "        self.data = data\n",
        "        self.left = None\n",
        "        self.right = None\n",
        "\n",
        "# Membuat tree secara manual\n",
        "root = Node(1)\n",
        "root.left = Node(2)\n",
        "root.right = Node(3)\n",
        "root.left.left = Node(4)\n",
        "root.left.right = Node(5)\n",
        "\n",
        "# Fungsi inorder traversal\n",
        "def inorder(node):\n",
        "    if node:\n",
        "        inorder(node.left)\n",
        "        print(node.data, end=' ')\n",
        "        inorder(node.right)\n",
        "\n",
        "print(\"Hasil inorder traversal dari binary tree:\")\n",
        "inorder(root)"
      ]
    },
    {
      "cell_type": "code",
      "source": [
        "#2\n",
        "class Node:\n",
        "    def __init__(self, data):\n",
        "        self.data = data\n",
        "        self.left = None\n",
        "        self.right = None\n",
        "\n",
        "class BinarySearchTree:\n",
        "    def __init__(self):\n",
        "        self.root = None\n",
        "\n",
        "    def insert(self, root, data):\n",
        "        if root is None:\n",
        "            return Node(data)\n",
        "        if data < root.data:\n",
        "            root.left = self.insert(root.left, data)\n",
        "        else:\n",
        "            root.right = self.insert(root.right, data)\n",
        "        return root\n",
        "\n",
        "bst = BinarySearchTree()\n",
        "root = None\n",
        "data_list = [50, 30, 70, 20, 40, 60, 80]\n",
        "for value in data_list:\n",
        "    root = bst.insert(root, value)"
      ],
      "metadata": {
        "id": "Pv43hyEbcmZ-"
      },
      "execution_count": 3,
      "outputs": []
    },
    {
      "cell_type": "code",
      "source": [
        "#3\n",
        "def inorder(node):\n",
        "    if node:\n",
        "        inorder(node.left)\n",
        "        print(node.data, end=' ')\n",
        "        inorder(node.right)\n",
        "\n",
        "def preorder(node):\n",
        "    if node:\n",
        "        print(node.data, end=' ')\n",
        "        preorder(node.left)\n",
        "        preorder(node.right)\n",
        "\n",
        "def postorder(node):\n",
        "    if node:\n",
        "        postorder(node.left)\n",
        "        postorder(node.right)\n",
        "        print(node.data, end=' ')\n",
        "\n",
        "print(\"Inorder Traversal:\")\n",
        "inorder(root)\n",
        "print(\"\\nPreorder Traversal:\")\n",
        "preorder(root)\n",
        "print(\"\\nPostorder Traversal:\")\n",
        "postorder(root)"
      ],
      "metadata": {
        "colab": {
          "base_uri": "https://localhost:8080/"
        },
        "id": "G5O5n-13c9WO",
        "outputId": "c7fbf9af-2746-41a1-eeb5-758fc01513ac"
      },
      "execution_count": 4,
      "outputs": [
        {
          "output_type": "stream",
          "name": "stdout",
          "text": [
            "Inorder Traversal:\n",
            "20 30 40 50 60 70 80 \n",
            "Preorder Traversal:\n",
            "50 30 20 40 70 60 80 \n",
            "Postorder Traversal:\n",
            "20 40 30 60 80 70 50 "
          ]
        }
      ]
    },
    {
      "cell_type": "code",
      "source": [
        "#4\n",
        "def search(node, key):\n",
        "    if node is None or node.data == key:\n",
        "        return node\n",
        "    if key < node.data:\n",
        "        return search(node.left, key)\n",
        "    return search(node.right, key)\n",
        "\n",
        "# Uji pencarian\n",
        "key = 60\n",
        "result = search(root, key)\n",
        "if result:\n",
        "    print(f\"{key} ditemukan dalam tree.\")\n",
        "else:\n",
        "    print(f\"{key} tidak ditemukan dalam tree.\")\n",
        "\n",
        "key = 25\n",
        "result = search(root, key)\n",
        "if result:\n",
        "    print(f\"{key} ditemukan dalam tree.\")\n",
        "else:\n",
        "    print(f\"{key} tidak ditemukan dalam tree.\")"
      ],
      "metadata": {
        "colab": {
          "base_uri": "https://localhost:8080/"
        },
        "id": "Ecng-gFtdkkE",
        "outputId": "48cdb7ff-0d48-4aaf-9da9-0351437afc9b"
      },
      "execution_count": 5,
      "outputs": [
        {
          "output_type": "stream",
          "name": "stdout",
          "text": [
            "60 ditemukan dalam tree.\n",
            "25 tidak ditemukan dalam tree.\n"
          ]
        }
      ]
    },
    {
      "cell_type": "code",
      "source": [
        "#Tugas 1\n",
        "class Node:\n",
        "    def __init__(self, data):\n",
        "        self.data = data\n",
        "        self.left = None\n",
        "        self.right = None\n",
        "\n",
        "def inorder_traversal(node):\n",
        "    if node is not None:\n",
        "        inorder_traversal(node.left)\n",
        "        print(node.data, end=' ')\n",
        "        inorder_traversal(node.right)\n",
        "\n",
        "nama_lengkap = \"Hakkan Azrul Suseno\"\n",
        "npm = 29\n",
        "tanggal_lahir = 19\n",
        "bulan_lahir = 6\n",
        "\n",
        "jumlah_huruf = len(nama_lengkap.replace(\" \", \"\"))\n",
        "\n",
        "vokal = 'aiueoAIUEO'\n",
        "jumlah_vokal = sum(1 for huruf in nama_lengkap if huruf in vokal)\n",
        "\n",
        "root = Node(jumlah_huruf)\n",
        "root.left = Node(jumlah_vokal)\n",
        "root.right = Node(npm)\n",
        "\n",
        "root.left.left = Node(tanggal_lahir)\n",
        "root.right.right = Node(bulan_lahir)\n",
        "\n",
        "print(\"Struktur tree inorder:\")\n",
        "inorder_traversal(root)\n",
        "print()\n"
      ],
      "metadata": {
        "colab": {
          "base_uri": "https://localhost:8080/"
        },
        "id": "6FgY6Cfrdqew",
        "outputId": "ac22c71e-c2e4-4538-80bd-b551cc14bbff"
      },
      "execution_count": 9,
      "outputs": [
        {
          "output_type": "stream",
          "name": "stdout",
          "text": [
            "Struktur Tree berdasarkan identitas saya (inorder traversal):\n",
            "19 7 17 29 6 \n"
          ]
        }
      ]
    },
    {
      "cell_type": "code",
      "source": [
        "#Tugas 2\n",
        "class Node:\n",
        "    def __init__(self, angka):\n",
        "        self.kiri = None\n",
        "        self.kanan = None\n",
        "        self.nilai = angka\n",
        "\n",
        "class BST:\n",
        "    def __init__(self):\n",
        "        self.root = None\n",
        "\n",
        "    def tambah(self, root, angka):\n",
        "        if root is None:\n",
        "            return Node(angka)\n",
        "        if angka < root.nilai:\n",
        "            root.kiri = self.tambah(root.kiri, angka)\n",
        "        else:\n",
        "            root.kanan = self.tambah(root.kanan, angka)\n",
        "        return root\n",
        "\n",
        "    def inorder(self, root):\n",
        "        if root is None:\n",
        "            return []\n",
        "        return self.inorder(root.kiri) + [root.nilai] + self.inorder(root.kanan)\n",
        "\n",
        "    def preorder(self, root):\n",
        "        if root is None:\n",
        "            return []\n",
        "        return [root.nilai] + self.preorder(root.kiri) + self.preorder(root.kanan)\n",
        "\n",
        "    def postorder(self, root):\n",
        "        if root is None:\n",
        "            return []\n",
        "        return self.postorder(root.kiri) + self.postorder(root.kanan) + [root.nilai]\n",
        "\n",
        "    def search(self, root, angka):\n",
        "        if root is None:\n",
        "            return False\n",
        "        if root.nilai == angka:\n",
        "            return True\n",
        "        if angka < root.nilai:\n",
        "            return self.search(root.kiri, angka)\n",
        "        return self.search(root.kanan, angka)\n",
        "\n",
        "\n",
        "data_angka = [29, 19, 6, 72, 97, 1, 4]\n",
        "\n",
        "tree = BST()\n",
        "root = None\n",
        "\n",
        "for angka in data_angka:\n",
        "    root = tree.tambah(root, angka)\n",
        "\n",
        "print(\"Traversal:\")\n",
        "print(\"Inorder   (kiri > root > kanan):\", tree.inorder(root))\n",
        "print(\"Preorder  (root > kiri > kanan):\", tree.preorder(root))\n",
        "print(\"Postorder (kiri > kanan > root):\", tree.postorder(root))\n",
        "\n",
        "\n",
        "search1 = 10\n",
        "search2 = 20\n",
        "\n",
        "if tree.search(root, search1):\n",
        "    print(f\"{search1} ditemukan dalam tree.\")\n",
        "else:\n",
        "    print(f\"{search1} tidak ditemukan dalam tree.\")\n",
        "\n",
        "if tree.search(root, search2):\n",
        "    print(f\"{search2} ditemukan dalam tree.\")\n",
        "else:\n",
        "    print(f\"{search2} tidak ditemukan dalam tree.\")\n"
      ],
      "metadata": {
        "colab": {
          "base_uri": "https://localhost:8080/"
        },
        "id": "1lyyQpxndrqa",
        "outputId": "ad71f48c-c198-41d0-cc29-1be6dbf73343"
      },
      "execution_count": 15,
      "outputs": [
        {
          "output_type": "stream",
          "name": "stdout",
          "text": [
            "Traversal:\n",
            "Inorder   (kiri > root > kanan): [1, 4, 6, 19, 29, 72, 97]\n",
            "Preorder  (root > kiri > kanan): [29, 19, 6, 1, 4, 72, 97]\n",
            "Postorder (kiri > kanan > root): [4, 1, 6, 19, 97, 72, 29]\n",
            "10 tidak ditemukan dalam tree.\n",
            "20 tidak ditemukan dalam tree.\n"
          ]
        }
      ]
    }
  ]
}
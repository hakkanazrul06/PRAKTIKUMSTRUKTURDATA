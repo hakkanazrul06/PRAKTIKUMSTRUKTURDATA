{
  "nbformat": 4,
  "nbformat_minor": 0,
  "metadata": {
    "colab": {
      "provenance": [],
      "authorship_tag": "ABX9TyMElFPrPv8uyGG5ybSS6RwR",
      "include_colab_link": true
    },
    "kernelspec": {
      "name": "python3",
      "display_name": "Python 3"
    },
    "language_info": {
      "name": "python"
    }
  },
  "cells": [
    {
      "cell_type": "markdown",
      "metadata": {
        "id": "view-in-github",
        "colab_type": "text"
      },
      "source": [
        "<a href=\"https://colab.research.google.com/github/hakkanazrul06/PRAKTIKUMSTRUKTURDATA/blob/main/LATIHAN5_STRUKDAT.ipynb\" target=\"_parent\"><img src=\"https://colab.research.google.com/assets/colab-badge.svg\" alt=\"Open In Colab\"/></a>"
      ]
    },
    {
      "cell_type": "code",
      "execution_count": 1,
      "metadata": {
        "colab": {
          "base_uri": "https://localhost:8080/"
        },
        "id": "fXk-WxdLq_ev",
        "outputId": "32ef85b2-aff3-4398-d1fb-3c9c10b130c4"
      },
      "outputs": [
        {
          "output_type": "stream",
          "name": "stdout",
          "text": [
            "Hasil dari perbandingan:\n",
            "\n",
            "| Linear Search | 51 perbandingan |\n",
            "| Binary Search | 6 perbandingan  |\n",
            "| Jump Search   | 6 perbandingan  |\n"
          ]
        }
      ],
      "source": [
        "import random\n",
        "import math\n",
        "\n",
        "def sorted_list (size=100, range_start=1, range_end=1000):\n",
        "    return sorted(random.sample(range(range_start, range_end + 1), size))\n",
        "\n",
        "def linear_search(arr, target):\n",
        "    perbandingan = 0\n",
        "    for index, nilai in enumerate(arr):\n",
        "        perbandingan += 1\n",
        "        if nilai == target:\n",
        "            return index, perbandingan\n",
        "    return -1, perbandingan\n",
        "\n",
        "def binary_search(arr, target):\n",
        "    low, high, perbandingan = 0, len(arr) - 1, 0\n",
        "    while low <= high:\n",
        "        perbandingan += 1\n",
        "        mid = (low + high) // 2\n",
        "        if arr[mid] == target:\n",
        "            return mid, perbandingan\n",
        "        elif arr[mid] < target:\n",
        "            low = mid + 1\n",
        "        else:\n",
        "            high = mid - 1\n",
        "    return -1, perbandingan\n",
        "\n",
        "def jump_search(arr, target):\n",
        "    n = len(arr)\n",
        "    step = int(math.sqrt(n))\n",
        "    prev, perbandingan = 0, 0\n",
        "\n",
        "    while prev < n and arr[min(step, n) - 1] < target:\n",
        "        perbandingan += 1\n",
        "        prev = step\n",
        "        step += int(math.sqrt(n))\n",
        "        if prev >= n:\n",
        "            return -1, perbandingan\n",
        "\n",
        "    for i in range(prev, min(step, n)):\n",
        "        perbandingan += 1\n",
        "        if arr[i] == target:\n",
        "            return i, perbandingan\n",
        "    return -1, perbandingan\n",
        "\n",
        "data = sorted_list ()\n",
        "target = data[len(data) // 2]\n",
        "\n",
        "lin_index, perbandingan_linear = linear_search(data, target)\n",
        "bin_index, perbandingan_binary = binary_search(data, target)\n",
        "jump_index, perbandingan_jump = jump_search(data, target)\n",
        "\n",
        "print(\"Hasil dari perbandingan:\")\n",
        "print(f\"\\n| Linear Search | {perbandingan_linear} perbandingan |\")\n",
        "print(f\"| Binary Search | {perbandingan_binary} perbandingan  |\")\n",
        "print(f\"| Jump Search   | {perbandingan_jump} perbandingan  |\")"
      ]
    }
  ]
}
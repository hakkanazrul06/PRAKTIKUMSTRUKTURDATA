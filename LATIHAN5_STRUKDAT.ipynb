{
  "nbformat": 4,
  "nbformat_minor": 0,
  "metadata": {
    "colab": {
      "provenance": [],
      "authorship_tag": "ABX9TyMRhNT5kpQJ980Uw3VcEq04",
      "include_colab_link": true
    },
    "kernelspec": {
      "name": "python3",
      "display_name": "Python 3"
    },
    "language_info": {
      "name": "python"
    }
  },
  "cells": [
    {
      "cell_type": "markdown",
      "metadata": {
        "id": "view-in-github",
        "colab_type": "text"
      },
      "source": [
        "<a href=\"https://colab.research.google.com/github/hakkanazrul06/PRAKTIKUMSTRUKTURDATA/blob/main/LATIHAN5_STRUKDAT.ipynb\" target=\"_parent\"><img src=\"https://colab.research.google.com/assets/colab-badge.svg\" alt=\"Open In Colab\"/></a>"
      ]
    },
    {
      "cell_type": "code",
      "execution_count": null,
      "metadata": {
        "colab": {
          "base_uri": "https://localhost:8080/"
        },
        "id": "2OOH4i80qUcv",
        "outputId": "f9dd8be4-4e0f-44d4-def5-879a806c71c4"
      },
      "outputs": [
        {
          "output_type": "stream",
          "name": "stdout",
          "text": [
            "Masukkan 3 digit terakhir NPM Anda: 23\n",
            "Elemen ditemukan pada indeks 3.\n"
          ]
        }
      ],
      "source": [
        "#satu\n",
        "def linear_search(arr, target):\n",
        "  for i in range (len(arr)):\n",
        "    if arr[i] == target:\n",
        "      return i\n",
        "  return -1\n",
        "\n",
        "arr = [12, 45, 78, 23, 56, 89, 34, 67, 90, 11]\n",
        "target = int(input(\"Masukkan 3 digit terakhir NPM Anda: \"))\n",
        "\n",
        "result = linear_search(arr, target)\n",
        "\n",
        "if result != -1:\n",
        "  print(f\"Elemen ditemukan pada indeks {result}.\")\n",
        "else:\n",
        "  print(\"Elemen tidak ditemukan dalam array.\")"
      ]
    },
    {
      "cell_type": "code",
      "source": [
        "#dua\n",
        "def binary_search(arr, target):\n",
        "    low = 0\n",
        "    high = len(arr) - 1\n",
        "\n",
        "    while low <= high:\n",
        "        mid = (low + high) // 2\n",
        "        if arr[mid] == target:\n",
        "            return mid\n",
        "        elif arr[mid] < target:\n",
        "            low = mid + 1\n",
        "        else:\n",
        "            high = mid - 1\n",
        "\n",
        "    return -1\n",
        "\n",
        "# Gantilah dengan angka terurut dan tanggal lahir Anda (DDMM)\n",
        "arr = [1010, 1202, 1405, 1707, 2508, 3009, 0311, 2412]\n",
        "target = int(input(\"Masukkan tanggal lahir Anda (DDMM): \"))\n",
        "\n",
        "result = binary_search(arr, target)\n",
        "\n",
        "if result != -1:\n",
        "    print(f\"Elemen ditemukan pada indeks {result}\")\n",
        "else:\n",
        "    print(\"Elemen tidak ditemukan\")"
      ],
      "metadata": {
        "colab": {
          "base_uri": "https://localhost:8080/"
        },
        "id": "0mSxmRLivrAg",
        "outputId": "7d27b818-9a37-4af6-aad0-38198c33fe81"
      },
      "execution_count": null,
      "outputs": [
        {
          "output_type": "stream",
          "name": "stdout",
          "text": [
            "Masukkan tanggal lahir Anda (DDMM): 0311\n",
            "Elemen tidak ditemukan\n"
          ]
        }
      ]
    },
    {
      "cell_type": "code",
      "source": [
        "#tiga\n",
        "import math\n",
        "\n",
        "def jump_search(arr, target):\n",
        "    n = len(arr)\n",
        "    step = int(math.sqrt(n))\n",
        "    prev = 0\n",
        "\n",
        "    while arr[min(step, n) - 1] < target:\n",
        "        prev = step\n",
        "        step += int(math.sqrt(n))\n",
        "        if prev >= n:\n",
        "            return -1\n",
        "\n",
        "    for i in range(prev, min(step, n)):\n",
        "        if arr[i] == target:\n",
        "            return i\n",
        "\n",
        "    return -1\n",
        "\n",
        "# Gantilah dengan daftar nama teman-teman Anda dalam urutan alfabet\n",
        "arr = [\"Aldo\", \"Budi\", \"Dewi\", \"Fajar\", \"Gita\", \"Indra\", \"Rina\", \"Tono\"]\n",
        "target = input(\"Masukkan inisial nama Anda: \")\n",
        "\n",
        "result = jump_search(arr, target)\n",
        "\n",
        "if result != -1:\n",
        "    print(f\"Elemen ditemukan pada indeks {result}\")\n",
        "else:\n",
        "    print(\"Elemen tidak ditemukan\")"
      ],
      "metadata": {
        "colab": {
          "base_uri": "https://localhost:8080/"
        },
        "id": "ACaylQXUwS4H",
        "outputId": "c6b6d523-b841-484d-a9df-1ec74601999f"
      },
      "execution_count": null,
      "outputs": [
        {
          "output_type": "stream",
          "name": "stdout",
          "text": [
            "Masukkan inisial nama Anda: aldo\n",
            "Elemen tidak ditemukan\n"
          ]
        }
      ]
    },
    {
      "cell_type": "code",
      "source": [
        "import random\n",
        "import math\n",
        "\n",
        "def sorted_list (size=100, range_start=1, range_end=1000):\n",
        "    return sorted(random.sample(range(range_start, range_end + 1), size))\n",
        "\n",
        "def linear_search(arr, target):\n",
        "    perbandingan = 0\n",
        "    for index, nilai in enumerate(arr):\n",
        "        perbandingan += 1\n",
        "        if nilai == target:\n",
        "            return index, perbandingan\n",
        "    return -1, perbandingan\n",
        "\n",
        "def binary_search(arr, target):\n",
        "    low, high, perbandingan = 0, len(arr) - 1, 0\n",
        "    while low <= high:\n",
        "        perbandingan += 1\n",
        "        mid = (low + high) // 2\n",
        "        if arr[mid] == target:\n",
        "            return mid, perbandingan\n",
        "        elif arr[mid] < target:\n",
        "            low = mid + 1\n",
        "        else:\n",
        "            high = mid - 1\n",
        "    return -1, perbandingan\n",
        "\n",
        "def jump_search(arr, target):\n",
        "    n = len(arr)\n",
        "    step = int(math.sqrt(n))\n",
        "    prev, perbandingan = 0, 0\n",
        "\n",
        "    while prev < n and arr[min(step, n) - 1] < target:\n",
        "        perbandingan += 1\n",
        "        prev = step\n",
        "        step += int(math.sqrt(n))\n",
        "        if prev >= n:\n",
        "            return -1, perbandingan\n",
        "\n",
        "    for i in range(prev, min(step, n)):\n",
        "        perbandingan += 1\n",
        "        if arr[i] == target:\n",
        "            return i, perbandingan\n",
        "    return -1, perbandingan\n",
        "\n",
        "data = sorted_list ()\n",
        "target = data[len(data) // 2]\n",
        "\n",
        "lin_index, perbandingan_linear = linear_search(data, target)\n",
        "bin_index, perbandingan_binary = binary_search(data, target)\n",
        "jump_index, perbandingan_jump = jump_search(data, target)\n",
        "\n",
        "print(\"Hasil dari perbandingan:\")\n",
        "print(f\"\\n| Linear Search | {perbandingan_linear} perbandingan |\")\n",
        "print(f\"| Binary Search | {perbandingan_binary} perbandingan  |\")\n",
        "print(f\"| Jump Search   | {perbandingan_jump} perbandingan  |\")"
      ],
      "metadata": {
        "colab": {
          "base_uri": "https://localhost:8080/"
        },
        "id": "bzfV1C1adIzY",
        "outputId": "7d1dd7ea-cab6-4e1d-f89f-701d86c6d7b3"
      },
      "execution_count": 9,
      "outputs": [
        {
          "output_type": "stream",
          "name": "stdout",
          "text": [
            "Hasil dari perbandingan:\n",
            "\n",
            "| Linear Search | 51 perbandingan |\n",
            "| Binary Search | 6 perbandingan  |\n",
            "| Jump Search   | 6 perbandingan  |\n"
          ]
        }
      ]
    }
  ]
}
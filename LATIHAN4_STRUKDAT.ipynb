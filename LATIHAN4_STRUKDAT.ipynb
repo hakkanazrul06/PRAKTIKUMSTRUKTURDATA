{
  "nbformat": 4,
  "nbformat_minor": 0,
  "metadata": {
    "colab": {
      "provenance": [],
      "authorship_tag": "ABX9TyOsSP+qlKzALdHJgq3DKbqB",
      "include_colab_link": true
    },
    "kernelspec": {
      "name": "python3",
      "display_name": "Python 3"
    },
    "language_info": {
      "name": "python"
    }
  },
  "cells": [
    {
      "cell_type": "markdown",
      "metadata": {
        "id": "view-in-github",
        "colab_type": "text"
      },
      "source": [
        "<a href=\"https://colab.research.google.com/github/hakkanazrul06/PRAKTIKUMSTRUKTURDATA/blob/main/LATIHAN4_STRUKDAT.ipynb\" target=\"_parent\"><img src=\"https://colab.research.google.com/assets/colab-badge.svg\" alt=\"Open In Colab\"/></a>"
      ]
    },
    {
      "cell_type": "code",
      "execution_count": 8,
      "metadata": {
        "id": "u5d1Uo6KFp3S",
        "colab": {
          "base_uri": "https://localhost:8080/"
        },
        "outputId": "5a9592b0-aa63-40bc-9ba3-a35d2f3f3fa4"
      },
      "outputs": [
        {
          "output_type": "stream",
          "name": "stdout",
          "text": [
            "HA29 berhasil ditambahkan ke antrian.\n",
            "AS28 berhasil ditambahkan ke antrian.\n",
            "VIP RA27 langsung mendapatkan kursi.\n",
            "NO26 berhasil ditambahkan ke antrian.\n",
            "YA30 berhasil ditambahkan ke antrian.\n",
            "\n",
            "Pelanggan pertama: HA29\n",
            "Pelanggan terakhir: YA30\n",
            "Melayani pelanggan: HA29\n",
            "Sisa antrian: ['AS28', 'NO26', 'YA30']\n"
          ]
        }
      ],
      "source": [
        "#latihan 1\n",
        "class QueueTicket:\n",
        "    def __init__(self, slot=10):\n",
        "        self.queue, self.slot = [], slot\n",
        "\n",
        "    def enqueue(self, nomor_tiket):\n",
        "        if len(self.queue) >= self.slot:\n",
        "          print(\"Antrian penuh, silahkan menunggu.\")\n",
        "        else:\n",
        "            if '7' in nomor_tiket:\n",
        "                print(f\"VIP {nomor_tiket} langsung mendapatkan kursi.\")\n",
        "            else:\n",
        "                self.queue.append(nomor_tiket)\n",
        "                print(f\"{nomor_tiket} berhasil ditambahkan ke antrian.\")\n",
        "\n",
        "    def dequeue(self):\n",
        "        return None if self.is_empty() else self.queue.pop(0)\n",
        "\n",
        "    def front(self):\n",
        "        return self.queue[0] if self.queue else None\n",
        "\n",
        "    def rear(self):\n",
        "        return self.queue[-1] if self.queue else None\n",
        "\n",
        "    def is_empty(self):\n",
        "        return not self.queue\n",
        "\n",
        "    def size(self):\n",
        "        return len(self.queue)\n",
        "\n",
        "queue = QueueTicket()\n",
        "for tiket in [\"HA29\", \"AS28\", \"RA27\", \"NO26\", \"YA30\"]:\n",
        "    queue.enqueue(tiket)\n",
        "print(\"\\nPelanggan pertama:\", queue.front())\n",
        "print(\"Pelanggan terakhir:\", queue.rear())\n",
        "print(\"Melayani pelanggan:\", queue.dequeue())\n",
        "print(\"Sisa antrian:\", queue.queue)"
      ]
    },
    {
      "cell_type": "code",
      "source": [
        "#latihan 2\n",
        "class QueueFotokopi:\n",
        "    def __init__(self):\n",
        "        self.queue = []\n",
        "\n",
        "    def enqueue(self, pesanan, halaman):\n",
        "        if halaman < 10:\n",
        "            print(f\"Pesanan {pesanan}, {halaman} halaman langsung diproses.\")\n",
        "        else:\n",
        "            self.queue.append((pesanan, halaman))\n",
        "            print(f\"Pesanan {pesanan}, {halaman} halaman ditambahkan ke antrian.\")\n",
        "\n",
        "    def dequeue(self):\n",
        "        if self.is_empty():\n",
        "            print(\"Antrian kosong, tidak ada pesanan di saat ini.\")\n",
        "            return None\n",
        "        order = self.queue.pop(0)\n",
        "        if order[1] > 100:\n",
        "            print(f\"Pesanan {order[0]} diproses dalam dua tahap, kembali ke antrian setelah tahap pertama.\")\n",
        "            self.queue.append((order[0], order[1] // 2))\n",
        "        return order\n",
        "\n",
        "    def front(self):\n",
        "        return self.queue[0] if not self.is_empty() else None\n",
        "\n",
        "    def rear(self):\n",
        "        return self.queue[-1] if not self.is_empty() else None\n",
        "\n",
        "    def is_empty(self):\n",
        "        return len(self.queue) == 0\n",
        "\n",
        "    def size(self):\n",
        "        return len(self.queue)\n",
        "\n",
        "queue = QueueFotokopi()\n",
        "for pesanan, halaman in [(\"HAK29\", 120), (\"ASE28\", 50), (\"RAM27\", 8), (\"NOF26\", 90), (\"YAS30\", 105)]:\n",
        "    queue.enqueue(pesanan, halaman)\n",
        "print(\"\\nPesanan pertama:\", queue.front())\n",
        "print(\"Pesanan terakhir:\", queue.rear())\n",
        "print(\"Melayani pesanan:\", queue.dequeue())\n",
        "print(\"\\nSisa antrian:\", queue.queue)\n"
      ],
      "metadata": {
        "colab": {
          "base_uri": "https://localhost:8080/"
        },
        "id": "sFPsITbGlnyJ",
        "outputId": "b45fc55f-5b4f-4a4b-e8fa-314815c99a77"
      },
      "execution_count": 19,
      "outputs": [
        {
          "output_type": "stream",
          "name": "stdout",
          "text": [
            "Pesanan HAK29, 120 halaman ditambahkan ke antrian.\n",
            "Pesanan ASE28, 50 halaman ditambahkan ke antrian.\n",
            "Pesanan RAM27, 8 halaman langsung diproses.\n",
            "Pesanan NOF26, 90 halaman ditambahkan ke antrian.\n",
            "Pesanan YAS30, 105 halaman ditambahkan ke antrian.\n",
            "\n",
            "Pesanan pertama: ('HAK29', 120)\n",
            "Pesanan terakhir: ('YAS30', 105)\n",
            "Pesanan HAK29 diproses dalam dua tahap, kembali ke antrian setelah tahap pertama.\n",
            "Melayani pesanan: ('HAK29', 120)\n",
            "\n",
            "Sisa antrian: [('ASE28', 50), ('NOF26', 90), ('YAS30', 105), ('HAK29', 60)]\n"
          ]
        }
      ]
    },
    {
      "cell_type": "code",
      "source": [
        "#latihan 3\n",
        "class QueueParkiran:\n",
        "    def __init__(self, slot=10):\n",
        "        self.queue = []\n",
        "        self.slot = slot\n",
        "\n",
        "    def enqueue(self, plat_nomor):\n",
        "        if plat_nomor in kendaraan_listrik:\n",
        "            print(f\"Kendaraan listrik berplat nomor {plat_nomor} mendapatkan prioritas parkir.\")\n",
        "            if len(self.queue) < self.slot:\n",
        "                self.queue.insert(0, plat_nomor)\n",
        "            else:\n",
        "                print(\"Parkiran penuh, Tidak ada slot tersisa.\")\n",
        "        else:\n",
        "            if len(self.queue) < self.slot:\n",
        "                self.queue.append(plat_nomor)\n",
        "                print(f\"Kendaraan biasa berplat nomor {plat_nomor} ditambahkan ke antrian parkir.\")\n",
        "            else:\n",
        "                print(\"Parkiran penuh, Tidak ada slot tersisa.\")\n",
        "\n",
        "    def dequeue(self):\n",
        "        if self.is_empty():\n",
        "            print(\"Antrian kosong, tidak ada kendaraan yang keluar.\")\n",
        "            return None\n",
        "        return self.queue.pop(0)\n",
        "\n",
        "    def front(self):\n",
        "        return self.queue[0] if not self.is_empty() else None\n",
        "\n",
        "    def rear(self):\n",
        "        return self.queue[-1] if not self.is_empty() else None\n",
        "\n",
        "    def is_empty(self):\n",
        "        return len(self.queue) == 0\n",
        "\n",
        "    def size(self):\n",
        "        return len(self.queue)\n",
        "\n",
        "kendaraan_biasa = [\"BE29\", \"JA28\", \"TE27\"]\n",
        "kendaraan_listrik = [\"MA26\", \"JO30\"]\n",
        "\n",
        "queue = QueueParkiran()\n",
        "for kendaraan in kendaraan_listrik + kendaraan_biasa:\n",
        "    queue.enqueue(kendaraan)\n",
        "print(\"\\nKendaraan pertama:\", queue.front())\n",
        "print(\"Kendaraan terakhir:\", queue.rear())\n",
        "print(\"Mengeluarkan kendaraan:\", queue.dequeue())\n",
        "print(\"\\nSisa antrian:\", queue.queue)"
      ],
      "metadata": {
        "colab": {
          "base_uri": "https://localhost:8080/"
        },
        "id": "vPwTnHyKpfHh",
        "outputId": "7bc432f1-fff5-47cd-b240-7d2b000e8df2"
      },
      "execution_count": 26,
      "outputs": [
        {
          "output_type": "stream",
          "name": "stdout",
          "text": [
            "Kendaraan listrik berplat nomor MA26 mendapatkan prioritas parkir.\n",
            "Kendaraan listrik berplat nomor JO30 mendapatkan prioritas parkir.\n",
            "Kendaraan biasa berplat nomor BE29 ditambahkan ke antrian parkir.\n",
            "Kendaraan biasa berplat nomor JA28 ditambahkan ke antrian parkir.\n",
            "Kendaraan biasa berplat nomor TE27 ditambahkan ke antrian parkir.\n",
            "\n",
            "Kendaraan pertama dalam antrian: JO30\n",
            "Kendaraan terakhir dalam antrian: TE27\n",
            "Mengeluarkan kendaraan: JO30\n",
            "\n",
            "Sisa antrian: ['MA26', 'BE29', 'JA28', 'TE27']\n"
          ]
        }
      ]
    },
    {
      "cell_type": "code",
      "source": [
        "#latihan 4\n",
        "class QueueSertifikat:\n",
        "    def __init__(self):\n",
        "        self.regular_queue = []\n",
        "        self.priority_queue = []\n",
        "\n",
        "    def enqueue(self, student_id, is_national_achiever=False):\n",
        "        if is_national_achiever:\n",
        "            print(f\"Mahasiswa {student_id} mendapatkan prioritas pengambilan sertifikat.\")\n",
        "            self.priority_queue.append(student_id)\n",
        "        else:\n",
        "            self.regular_queue.append(student_id)\n",
        "            print(f\"Mahasiswa {student_id} ditambahkan ke antrian reguler.\")\n",
        "\n",
        "    def dequeue(self):\n",
        "        if not self.is_empty():\n",
        "            if self.priority_queue:\n",
        "                return self.priority_queue.pop(0)\n",
        "            return self.regular_queue.pop(0)\n",
        "        print(\"Antrian kosong, tidak ada mahasiswa yang dilayani.\")\n",
        "        return None\n",
        "\n",
        "    def front(self):\n",
        "        if self.priority_queue:\n",
        "            return self.priority_queue[0]\n",
        "        if self.regular_queue:\n",
        "            return self.regular_queue[0]\n",
        "        return None\n",
        "\n",
        "    def rear(self):\n",
        "        if self.regular_queue:\n",
        "            return self.regular_queue[-1]\n",
        "        if self.priority_queue:\n",
        "            return self.priority_queue[-1]\n",
        "        return None\n",
        "\n",
        "    def is_empty(self):\n",
        "        return len(self.priority_queue) == 0 and len(self.regular_queue) == 0\n",
        "\n",
        "    def size(self):\n",
        "        return len(self.priority_queue) + len(self.regular_queue)\n",
        "\n",
        "queue = QueueSertifikat()\n",
        "queue.enqueue(\"INF12\")\n",
        "queue.enqueue(\"BIO34\")\n",
        "queue.enqueue(\"KOM56\", is_national_achiever=True)\n",
        "print(\"Mahasiswa pertama dalam antrian:\", queue.front())\n",
        "print(\"Mahasiswa terakhir dalam antrian:\", queue.rear())\n",
        "print(\"Melayani mahasiswa:\", queue.dequeue())\n",
        "print(\"Sisa antrian:\", queue.regular_queue + queue.priority_queue)\n"
      ],
      "metadata": {
        "id": "7Fa0kgXDq40U"
      },
      "execution_count": null,
      "outputs": []
    },
    {
      "cell_type": "code",
      "source": [
        "#prak 1\n",
        "class QueueList:\n",
        "  def __init__(self):\n",
        "    self.queue = []\n",
        "\n",
        "  def enqueue (self, item):\n",
        "    self.queue.append(item)\n",
        "\n",
        "  def dequeue(self):\n",
        "    if not self.is_emptu():\n",
        "      return self.queue.pop(0)\n",
        "    return None\n",
        "\n",
        "  def front(self):\n",
        "    return self.queue[0] if not self.is_empty() else None\n",
        "\n",
        "  def rear(self):\n",
        "    return self.queue[-1] if not self.is_empty() else None\n",
        "\n",
        "  def is_empty(self):\n",
        "    return len(self.queue) == 0\n",
        "\n",
        "  def size(self):\n",
        "    return len(self.queue)\n",
        "\n",
        "queue = QueueList()\n",
        "queue.enqueue(10)\n",
        "queue.enqueue(20)\n",
        "queue.enqueue(30)\n",
        "print(\"Queue setelah enqueue:\", queue.queue)\n",
        "print(\"Dequeued element:\", queue.dequeue)\n",
        "print(\"Front element:\", queue.front())\n",
        "print(\"Rear element:\", queue.rear())\n",
        "print(\"Size:\", queue.size())"
      ],
      "metadata": {
        "colab": {
          "base_uri": "https://localhost:8080/"
        },
        "id": "hZNMuB4h5BxW",
        "outputId": "1130a09f-ceb2-40f4-b2e0-ed9cbc12d20c"
      },
      "execution_count": 28,
      "outputs": [
        {
          "output_type": "stream",
          "name": "stdout",
          "text": [
            "Queue setelah enqueue: [10, 20, 30]\n",
            "Dequeued element: <bound method QueueList.dequeue of <__main__.QueueList object at 0x7fe435aeac10>>\n",
            "Front element: 10\n",
            "Rear element: 30\n",
            "Size: 3\n"
          ]
        }
      ]
    },
    {
      "cell_type": "code",
      "source": [
        "#prak 2\n",
        "from collections import deque\n",
        "\n",
        "# Implementasi Queue menggunakan deque\n",
        "class QueueDeque:\n",
        "\n",
        "    def __init__(self):\n",
        "        self.queue = deque()\n",
        "\n",
        "    def enqueue(self, item):\n",
        "        self.queue.append(item)\n",
        "\n",
        "    def dequeue(self):\n",
        "        return self.queue.popleft() if not self.is_empty() else None\n",
        "\n",
        "    def front(self):\n",
        "        return self.queue[0] if not self.is_empty() else None\n",
        "\n",
        "    def rear(self):\n",
        "        return self.queue[-1] if not self.is_empty() else None\n",
        "\n",
        "    def is_empty(self):\n",
        "        return len(self.queue) == 0\n",
        "\n",
        "    def size(self):\n",
        "        return len(self.queue)\n",
        "\n",
        "# Contoh penggunaan\n",
        "queue = QueueDeque()\n",
        "queue.enqueue(10)\n",
        "queue.enqueue(20)\n",
        "queue.enqueue(30)\n",
        "print(\"Queue setelah enqueue:\", list(queue.queue))\n",
        "\n",
        "print(\"Dequeued element:\", queue.dequeue())\n",
        "print(\"Front element:\", queue.front())\n",
        "print(\"Rear element:\", queue.rear())\n",
        "print(\"Queue size:\", queue.size())"
      ],
      "metadata": {
        "colab": {
          "base_uri": "https://localhost:8080/"
        },
        "id": "zCsuybLW5weT",
        "outputId": "2854f20a-14bf-4b0b-8510-0421648696ee"
      },
      "execution_count": 29,
      "outputs": [
        {
          "output_type": "stream",
          "name": "stdout",
          "text": [
            "Queue setelah enqueue: [10, 20, 30]\n",
            "Dequeued element: 10\n",
            "Front element: 20\n",
            "Rear element: 30\n",
            "Queue size: 2\n"
          ]
        }
      ]
    },
    {
      "cell_type": "code",
      "source": [
        "#prak 3\n",
        "from queue import Queue\n",
        "\n",
        "# Implementasi Queue menggunakan queue.Queue\n",
        "queue = Queue()\n",
        "\n",
        "queue.put(10)\n",
        "queue.put(20)\n",
        "queue.put(30)\n",
        "\n",
        "print(\"Queue size:\", queue.qsize())\n",
        "print(\"Dequeued element:\", queue.get())\n",
        "print(\"Queue size setelah dequeue:\", queue.qsize())"
      ],
      "metadata": {
        "id": "lWThuxvW50O9"
      },
      "execution_count": null,
      "outputs": []
    },
    {
      "cell_type": "code",
      "source": [
        "#prak 4\n",
        "class Node:\n",
        "    def __init__(self, data):\n",
        "        self.data = data\n",
        "        self.next = None\n",
        "\n",
        "class QueueLinkedList:\n",
        "    def __init__(self):\n",
        "        self.front = self.rear = None\n",
        "\n",
        "    def enqueue(self, data):\n",
        "        new_node = Node(data)\n",
        "        if self.rear is None:\n",
        "            self.front = self.rear = new_node\n",
        "            return\n",
        "        self.rear.next = new_node\n",
        "        self.rear = new_node\n",
        "\n",
        "    def dequeue(self):\n",
        "        if self.front is None:\n",
        "            return None\n",
        "        dequeued_element = self.front.data\n",
        "        self.front = self.front.next\n",
        "        if self.front is None:\n",
        "            self.rear = None\n",
        "        return dequeued_element\n",
        "\n",
        "    def is_empty(self):\n",
        "        return self.front is None\n",
        "\n",
        "    def front_element(self):\n",
        "        return self.front.data if self.front else None\n",
        "\n",
        "    def rear_element(self):\n",
        "        return self.rear.data if self.rear else None\n",
        "\n",
        "# Contoh penggunaan\n",
        "queue = QueueLinkedList()\n",
        "queue.enqueue(10)\n",
        "queue.enqueue(20)\n",
        "queue.enqueue(30)\n",
        "print(\"Dequeued element:\", queue.dequeue())\n",
        "print(\"Front element:\", queue.front_element())\n",
        "print(\"Rear element:\", queue.rear_element())"
      ],
      "metadata": {
        "id": "AbDWeOTB525f"
      },
      "execution_count": null,
      "outputs": []
    }
  ]
}
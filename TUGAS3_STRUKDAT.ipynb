{
  "nbformat": 4,
  "nbformat_minor": 0,
  "metadata": {
    "colab": {
      "provenance": [],
      "authorship_tag": "ABX9TyN8yGHbllkHsKxJE9SzLLpn",
      "include_colab_link": true
    },
    "kernelspec": {
      "name": "python3",
      "display_name": "Python 3"
    },
    "language_info": {
      "name": "python"
    }
  },
  "cells": [
    {
      "cell_type": "markdown",
      "metadata": {
        "id": "view-in-github",
        "colab_type": "text"
      },
      "source": [
        "<a href=\"https://colab.research.google.com/github/hakkanazrul06/PRAKTIKUMSTRUKTURDATA/blob/main/TUGAS3_STRUKDAT.ipynb\" target=\"_parent\"><img src=\"https://colab.research.google.com/assets/colab-badge.svg\" alt=\"Open In Colab\"/></a>"
      ]
    },
    {
      "cell_type": "code",
      "execution_count": 7,
      "metadata": {
        "id": "FtMiTikX-4_i",
        "colab": {
          "base_uri": "https://localhost:8080/"
        },
        "outputId": "f3ae25a2-5ffd-4cd8-aecf-f84710ba803f"
      },
      "outputs": [
        {
          "output_type": "stream",
          "name": "stdout",
          "text": [
            "NPM: 2420506029\n",
            "\n",
            "Menu: 1. Tambah Barang, 2. Ambil Barang, 3. Tampilkan Tumpukan/Stack, 4. Keluar\n",
            "Pilih: 1\n",
            "Barang yang ingin dimasukkan: b\n",
            "b ditambahkan ke gudang.\n",
            "\n",
            "Menu: 1. Tambah Barang, 2. Ambil Barang, 3. Tampilkan Tumpukan/Stack, 4. Keluar\n",
            "Pilih: b\n",
            "Error, pilihan tidak valid.\n",
            "\n",
            "Menu: 1. Tambah Barang, 2. Ambil Barang, 3. Tampilkan Tumpukan/Stack, 4. Keluar\n",
            "Pilih: 1\n",
            "Barang yang ingin dimasukkan: b\n",
            "b ditambahkan ke gudang.\n",
            "\n",
            "Menu: 1. Tambah Barang, 2. Ambil Barang, 3. Tampilkan Tumpukan/Stack, 4. Keluar\n",
            "Pilih: 1\n",
            "Barang yang ingin dimasukkan: 3\n",
            "3 ditambahkan ke gudang.\n",
            "\n",
            "Menu: 1. Tambah Barang, 2. Ambil Barang, 3. Tampilkan Tumpukan/Stack, 4. Keluar\n",
            "Pilih: 3\n",
            "['3', 'b', 'b']\n",
            "\n",
            "Menu: 1. Tambah Barang, 2. Ambil Barang, 3. Tampilkan Tumpukan/Stack, 4. Keluar\n",
            "Pilih: 2\n",
            "Barang '3' diambil dari gudang.\n",
            "\n",
            "Menu: 1. Tambah Barang, 2. Ambil Barang, 3. Tampilkan Tumpukan/Stack, 4. Keluar\n",
            "Pilih: 3\n",
            "['b', 'b']\n",
            "\n",
            "Menu: 1. Tambah Barang, 2. Ambil Barang, 3. Tampilkan Tumpukan/Stack, 4. Keluar\n",
            "Pilih: 4\n",
            "Keluar.\n"
          ]
        }
      ],
      "source": [
        "class Gudang:\n",
        "    def __init__(self, kapasitas):\n",
        "        self.kapasitas = kapasitas\n",
        "        self.stack = []\n",
        "\n",
        "    def tambah_barang(self, barang):\n",
        "        if len(self.stack) < self.kapasitas:\n",
        "            self.stack.append(barang)\n",
        "            print(f\"{barang} ditambahkan ke gudang.\")\n",
        "        else:\n",
        "            print(\"Gudang sudah penuh.\")\n",
        "\n",
        "    def ambil_barang(self):\n",
        "        if self.stack:\n",
        "            barang = self.stack.pop()\n",
        "            print(f\"Barang '{barang}' diambil dari gudang.\")\n",
        "        else:\n",
        "            print(\"Tidak ada barang yang dapat diambil\")\n",
        "\n",
        "    def lihat_stack(self):\n",
        "        if self.stack:\n",
        "            print(list(reversed(self.stack)))\n",
        "        else:\n",
        "            print(\"Gudang tidak ada isi.\")\n",
        "\n",
        "npm = int(input(\"NPM: \"))\n",
        "npm_akhir = npm % 100\n",
        "gudang = Gudang(npm_akhir)\n",
        "\n",
        "while True:\n",
        "    print(\"\\nMenu: 1. Tambah Barang, 2. Ambil Barang, 3. Tampilkan Tumpukan/Stack, 4. Keluar\")\n",
        "    pilihan = input(\"Pilih: \")\n",
        "\n",
        "    if pilihan == \"1\":\n",
        "        barang = input(\"Barang yang ingin dimasukkan: \")\n",
        "        gudang.tambah_barang(barang)\n",
        "    elif pilihan == \"2\":\n",
        "        gudang.ambil_barang()\n",
        "    elif pilihan == \"3\":\n",
        "        gudang.lihat_stack()\n",
        "    elif pilihan == \"4\":\n",
        "        print(\"Keluar.\")\n",
        "        break\n",
        "    else:\n",
        "        print(\"Error, pilihan tidak valid.\")\n"
      ]
    }
  ]
}
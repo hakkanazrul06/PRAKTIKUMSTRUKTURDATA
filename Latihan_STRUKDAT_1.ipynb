{
  "nbformat": 4,
  "nbformat_minor": 0,
  "metadata": {
    "colab": {
      "provenance": [],
      "authorship_tag": "ABX9TyN2pjtIx/HtK583vHqzmtnP",
      "include_colab_link": true
    },
    "kernelspec": {
      "name": "python3",
      "display_name": "Python 3"
    },
    "language_info": {
      "name": "python"
    }
  },
  "cells": [
    {
      "cell_type": "markdown",
      "metadata": {
        "id": "view-in-github",
        "colab_type": "text"
      },
      "source": [
        "<a href=\"https://colab.research.google.com/github/hakkanazrul06/PRAKTIKUMSTRUKTURDATA/blob/main/Latihan_STRUKDAT_1.ipynb\" target=\"_parent\"><img src=\"https://colab.research.google.com/assets/colab-badge.svg\" alt=\"Open In Colab\"/></a>"
      ]
    },
    {
      "cell_type": "code",
      "execution_count": null,
      "metadata": {
        "colab": {
          "base_uri": "https://localhost:8080/"
        },
        "id": "uvNvhysauoIR",
        "outputId": "f90b67a8-f970-4ead-e4b1-aec3a93d65de"
      },
      "outputs": [
        {
          "output_type": "stream",
          "name": "stdout",
          "text": [
            "Isi array NPM:  [2420506029, 2420506030, 2420506031, 2420506032, 2420506033]\n"
          ]
        }
      ],
      "source": [
        "#Satu\n",
        "npm = []\n",
        "\n",
        "npm = [2420506029, 2420506030, 2420506031, 2420506032, 2420506033]\n",
        "\n",
        "print(\"Isi array NPM: \", npm)"
      ]
    },
    {
      "cell_type": "code",
      "source": [
        "#Dua\n",
        "npm = [29, 30, 31, 32]\n",
        "npm.pop(0) #menghilangkan nilai pertama, 0=1, 1=2 dst.\n",
        "print(npm) #memprint array npm setelah command pop.\n",
        "\n"
      ],
      "metadata": {
        "colab": {
          "base_uri": "https://localhost:8080/"
        },
        "id": "IBnM55DQ19CD",
        "outputId": "015f2523-9a30-4239-e003-a9aecb8814b1"
      },
      "execution_count": null,
      "outputs": [
        {
          "output_type": "stream",
          "name": "stdout",
          "text": [
            "[30, 31, 32]\n"
          ]
        }
      ]
    },
    {
      "cell_type": "code",
      "source": [
        "#Tiga\n",
        "fakultas = [\"Pertanian\", \"Teknik\", \"Ilmu Pendidikan\", \"Ilmu Politik\", \"Ekonomi\"]\n",
        "\n",
        "for x in fakultas:\n",
        "  print(\"Fakultas\", x)"
      ],
      "metadata": {
        "colab": {
          "base_uri": "https://localhost:8080/"
        },
        "id": "1GxPBih67t_E",
        "outputId": "2de1991b-a3bd-4774-a9d2-1fa000c11595"
      },
      "execution_count": null,
      "outputs": [
        {
          "output_type": "stream",
          "name": "stdout",
          "text": [
            "Fakultas Pertanian\n",
            "Fakultas Teknik\n",
            "Fakultas Ilmu Pendidikan\n",
            "Fakultas Ilmu Politik\n",
            "Fakultas Ekonomi\n"
          ]
        }
      ]
    },
    {
      "cell_type": "code",
      "source": [
        "#Empat\n",
        "harga = [100, 20, 30, 60]\n",
        "\n",
        "print(\"Total belanja: \", sum(harga))"
      ],
      "metadata": {
        "colab": {
          "base_uri": "https://localhost:8080/"
        },
        "id": "-uhFBjZn9P84",
        "outputId": "90ecf2cd-f070-4318-ed89-43e88518774e"
      },
      "execution_count": null,
      "outputs": [
        {
          "output_type": "stream",
          "name": "stdout",
          "text": [
            "Total belanja:  210\n"
          ]
        }
      ]
    },
    {
      "cell_type": "code",
      "source": [
        "#Lima\n",
        "matrix = [\n",
        "    [20, 30, 40, 51],\n",
        "    [1, 2, 3, 4],\n",
        "    [50, 23, 33, 44]\n",
        "]\n",
        "\n",
        "print(\"Isi matrix 2d: \")\n",
        "for x in matrix:\n",
        "  print(x)"
      ],
      "metadata": {
        "colab": {
          "base_uri": "https://localhost:8080/"
        },
        "id": "M85jxOry-b31",
        "outputId": "e3e53f68-4d46-44ab-e038-bbd9e98f5707"
      },
      "execution_count": null,
      "outputs": [
        {
          "output_type": "stream",
          "name": "stdout",
          "text": [
            "Isi matrix 2d: \n",
            "[20, 30, 40, 51]\n",
            "[1, 2, 3, 4]\n",
            "[50, 23, 33, 44]\n"
          ]
        }
      ]
    },
    {
      "cell_type": "code",
      "source": [
        "#Enam\n",
        "matrix = [\n",
        "    [20, 30, 40, 51],\n",
        "    [1, 2, 3, 4],\n",
        "    [50, 23, 33, 44]\n",
        "]\n",
        "\n",
        "print(\"Baris 2, Kolom 4: \", matrix[1][3])"
      ],
      "metadata": {
        "colab": {
          "base_uri": "https://localhost:8080/"
        },
        "id": "b3wcWVTU-9X7",
        "outputId": "b6fcbbf6-dcec-49be-8500-733dc12ca401"
      },
      "execution_count": null,
      "outputs": [
        {
          "output_type": "stream",
          "name": "stdout",
          "text": [
            "Baris 2, Kolom 4:  4\n"
          ]
        }
      ]
    },
    {
      "cell_type": "code",
      "source": [
        "#Tujuh\n",
        "matrix = [\n",
        "    [20, 30, 40, 51],\n",
        "    [1, 2, 3, 4],\n",
        "    [50, 23, 33, 44]\n",
        "]\n",
        "\n",
        "matrix.append([19, 0o6 , 20, 0o6])\n",
        "print(\"matrix: \")\n",
        "for x in matrix:\n",
        "  print(x)\n"
      ],
      "metadata": {
        "id": "NoI9HxB5BdB9",
        "colab": {
          "base_uri": "https://localhost:8080/"
        },
        "outputId": "a2c2688d-b42f-4a83-f6c7-40f26c8f55ed"
      },
      "execution_count": null,
      "outputs": [
        {
          "output_type": "stream",
          "name": "stdout",
          "text": [
            "matrix: \n",
            "[20, 30, 40, 51]\n",
            "[1, 2, 3, 4]\n",
            "[50, 23, 33, 44]\n",
            "[19, 6, 20, 6]\n"
          ]
        }
      ]
    },
    {
      "cell_type": "code",
      "source": [
        "#Delapan\n",
        "matrix = [\n",
        "    [20, 30, 40, 51],\n",
        "    [1, 2, 3, 4],\n",
        "    [50, 23, 33, 44]\n",
        "]\n",
        "\n",
        "matrix.append([19, 0o6 , 20, 0o6])\n",
        "matrix[3].pop(2)\n",
        "print(\"matrix: \")\n",
        "for x in matrix:\n",
        "  print(x)"
      ],
      "metadata": {
        "id": "eU7PZM2wExgq",
        "colab": {
          "base_uri": "https://localhost:8080/"
        },
        "outputId": "6960c44a-4ef8-41b9-f34f-40d9fd683c15"
      },
      "execution_count": null,
      "outputs": [
        {
          "output_type": "stream",
          "name": "stdout",
          "text": [
            "matrix: \n",
            "[20, 30, 40, 51]\n",
            "[1, 2, 3, 4]\n",
            "[50, 23, 33, 44]\n",
            "[19, 6, 6]\n"
          ]
        }
      ]
    },
    {
      "cell_type": "code",
      "source": [
        "#Sembilan\n",
        "matrix = [\n",
        "    [20, 30, 40, 51],\n",
        "    [1, 2, 3, 4],\n",
        "    [50, 23, 33, 44]\n",
        "]\n",
        "\n",
        "matrix.append([19, 0o6 , 20, 0o6])\n",
        "matrix[3].pop(2)\n",
        "matrix[3][2] = 18\n",
        "print(\"matrix setelah diganti: \")\n",
        "for x in matrix:\n",
        "  print(x)"
      ],
      "metadata": {
        "colab": {
          "base_uri": "https://localhost:8080/"
        },
        "id": "dVrtyzMGE9XV",
        "outputId": "e7338bea-1301-4f8e-a8ca-9b903ef70109"
      },
      "execution_count": null,
      "outputs": [
        {
          "output_type": "stream",
          "name": "stdout",
          "text": [
            "matrix setelah diganti: \n",
            "[20, 30, 40, 51]\n",
            "[1, 2, 3, 4]\n",
            "[50, 23, 33, 44]\n",
            "[19, 6, 18]\n"
          ]
        }
      ]
    },
    {
      "cell_type": "code",
      "source": [
        "#Sepuluh\n",
        "barang = [\"minyak\", \"beras\", \"milo\"]\n",
        "barang.append(\"telor\")\n",
        "barang.remove(\"milo\")\n",
        "\n",
        "print(\"list belanjaan: \")\n",
        "for x in barang:\n",
        "  print(x)"
      ],
      "metadata": {
        "colab": {
          "base_uri": "https://localhost:8080/"
        },
        "id": "6jBQ5GEHG-fL",
        "outputId": "6e77b488-ff49-4069-e1de-8a51ac811f24"
      },
      "execution_count": null,
      "outputs": [
        {
          "output_type": "stream",
          "name": "stdout",
          "text": [
            "list belanjaan: \n",
            "minyak\n",
            "beras\n",
            "telor\n"
          ]
        }
      ]
    }
  ]
}
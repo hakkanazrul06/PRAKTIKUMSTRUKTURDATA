{
  "nbformat": 4,
  "nbformat_minor": 0,
  "metadata": {
    "colab": {
      "provenance": [],
      "authorship_tag": "ABX9TyPI4zkf3XJWcyJgYw1xmbCt",
      "include_colab_link": true
    },
    "kernelspec": {
      "name": "python3",
      "display_name": "Python 3"
    },
    "language_info": {
      "name": "python"
    }
  },
  "cells": [
    {
      "cell_type": "markdown",
      "metadata": {
        "id": "view-in-github",
        "colab_type": "text"
      },
      "source": [
        "<a href=\"https://colab.research.google.com/github/hakkanazrul06/PRAKTIKUMSTRUKTURDATA/blob/main/LATIHAN_STRUKDAT_8.ipynb\" target=\"_parent\"><img src=\"https://colab.research.google.com/assets/colab-badge.svg\" alt=\"Open In Colab\"/></a>"
      ]
    },
    {
      "cell_type": "code",
      "execution_count": 1,
      "metadata": {
        "colab": {
          "base_uri": "https://localhost:8080/"
        },
        "id": "c8JCoYZHxAkh",
        "outputId": "49c6c042-a165-4fe6-81a5-13a7b8eae28b"
      },
      "outputs": [
        {
          "output_type": "stream",
          "name": "stdout",
          "text": [
            "A -> ['B', 'C']\n",
            "B -> ['A', 'D', 'E']\n",
            "C -> ['A', 'F']\n",
            "D -> ['B']\n",
            "E -> ['B', 'F']\n",
            "F -> ['C', 'E']\n"
          ]
        }
      ],
      "source": [
        "graph = {\n",
        "    'A': ['B', 'C'],\n",
        "    'B': ['A', 'D', 'E'],\n",
        "    'C': ['A', 'F'],\n",
        "    'D': ['B'],\n",
        "    'E': ['B', 'F'],\n",
        "    'F': ['C', 'E']\n",
        "}\n",
        "\n",
        "def print_graph(graf):\n",
        "    for node in graf:\n",
        "        print(f\"{node} -> {graf[node]}\")\n",
        "\n",
        "print_graph(graph)"
      ]
    },
    {
      "cell_type": "code",
      "source": [
        "from collections import deque\n",
        "\n",
        "def bfs(graph, start):\n",
        "    visited = set()\n",
        "    queue = deque([start])\n",
        "\n",
        "    while queue:\n",
        "        vertex = queue.popleft()\n",
        "        if vertex not in visited:\n",
        "            print(vertex, end=\" \")\n",
        "            visited.add(vertex)\n",
        "            queue.extend([neighbor for neighbor in graph[vertex] if neighbor not in visited])\n",
        "\n",
        "# Contoh pemanggilan\n",
        "bfs(graph, 'A')"
      ],
      "metadata": {
        "colab": {
          "base_uri": "https://localhost:8080/"
        },
        "id": "V2ZgRJImxvOV",
        "outputId": "68f11b01-ca3b-4b79-da32-07899386482a"
      },
      "execution_count": 4,
      "outputs": [
        {
          "output_type": "stream",
          "name": "stdout",
          "text": [
            "A B C D E F "
          ]
        }
      ]
    },
    {
      "cell_type": "code",
      "source": [
        "def dfs(graph, start, visited=None):\n",
        "    if visited is None:\n",
        "        visited = set()\n",
        "\n",
        "    if start not in visited:\n",
        "        print(start, end=\" \")\n",
        "        visited.add(start)\n",
        "        for neighbor in graph[start]:\n",
        "            dfs(graph, neighbor, visited)\n",
        "\n",
        "# Contoh pemanggilan\n",
        "dfs(graph, 'A')"
      ],
      "metadata": {
        "colab": {
          "base_uri": "https://localhost:8080/"
        },
        "id": "kvfdH0f-xqe7",
        "outputId": "a834d903-fe2e-4e62-a70e-e32de399aec4"
      },
      "execution_count": 5,
      "outputs": [
        {
          "output_type": "stream",
          "name": "stdout",
          "text": [
            "A B D E F C "
          ]
        }
      ]
    },
    {
      "cell_type": "code",
      "source": [
        "# Lengkapi fungsi untuk menghitung jumlah tetangga dari tiap simpul dalam graf\n",
        "def count_neighbors(graph):\n",
        "    result = {}\n",
        "    for node in graph:\n",
        "        result[node] = len(graph[node])\n",
        "    return result\n",
        "count_neighbors(graph)"
      ],
      "metadata": {
        "colab": {
          "base_uri": "https://localhost:8080/"
        },
        "id": "7cBbWYZGx8tj",
        "outputId": "52c1afa6-ddcc-4db7-94a9-acf25adf9933"
      },
      "execution_count": 7,
      "outputs": [
        {
          "output_type": "execute_result",
          "data": {
            "text/plain": [
              "{'A': 2, 'B': 3, 'C': 2, 'D': 1, 'E': 2, 'F': 2}"
            ]
          },
          "metadata": {},
          "execution_count": 7
        }
      ]
    },
    {
      "cell_type": "code",
      "source": [
        "#tugas\n",
        "from collections import deque\n",
        "\n",
        "def print_graph(graph):\n",
        "    for node in graph:\n",
        "        print(f\"{node}: {graph[node]}\")\n",
        "\n",
        "def bfs(graph, start):\n",
        "    visited, queue = set(), deque([start])\n",
        "    while queue:\n",
        "        node = queue.popleft()\n",
        "        if node not in visited:\n",
        "            print(node, end=' ')\n",
        "            visited.add(node)\n",
        "            queue.extend(n for n in graph[node] if n not in visited)\n",
        "\n",
        "def dfs(graph, start, visited=None):\n",
        "    if visited is None: visited = set()\n",
        "    print(start, end=' ')\n",
        "    visited.add(start)\n",
        "    for n in graph[start]:\n",
        "        if n not in visited:\n",
        "            dfs(graph, n, visited)\n",
        "\n",
        "def bfs_list(graph, start):\n",
        "    visited, queue, result = set(), deque([start]), []\n",
        "    while queue:\n",
        "        node = queue.popleft()\n",
        "        if node not in visited:\n",
        "            visited.add(node)\n",
        "            result.append(node)\n",
        "            queue.extend(n for n in graph[node] if n not in visited)\n",
        "    return result\n",
        "\n",
        "def find_path(graph, start, end, path=None):\n",
        "    if path is None: path = []\n",
        "    path += [start]\n",
        "    if start == end: return path\n",
        "    for n in graph.get(start, []):\n",
        "        if n not in path:\n",
        "            p = find_path(graph, n, end, path)\n",
        "            if p: return p\n",
        "    return None\n",
        "\n",
        "def is_connected(graph):\n",
        "    visited = set()\n",
        "    def dfs(n):\n",
        "        visited.add(n)\n",
        "        for t in graph[n]:\n",
        "            if t not in visited: dfs(t)\n",
        "    dfs(next(iter(graph)))\n",
        "    return len(visited) == len(graph)\n",
        "\n",
        "graph = {\n",
        "    'A': ['B'],\n",
        "    'B': ['A', 'D', 'E'],\n",
        "    'C': ['C', 'A'],\n",
        "    'D': ['C', 'E'],\n",
        "    'E': ['B', 'A']\n",
        "}\n",
        "\n",
        "print_graph(graph)\n",
        "print(\"\\nHasil BFS dari A:\"), bfs(graph, 'A')\n",
        "print(\"\\n\\nHasil DFS dari A:\"), dfs(graph, 'A')\n",
        "print(\"\\n\\nList BFS dari A:\", bfs_list(graph, 'A'))\n",
        "print(\"\\nPath dari B ke E:\", find_path(graph, 'B', 'E'))\n",
        "print(\"\\nApakah graph terhubung:\", is_connected(graph))\n"
      ],
      "metadata": {
        "colab": {
          "base_uri": "https://localhost:8080/"
        },
        "id": "SZ5aDGX7yyGB",
        "outputId": "87e13792-7d29-4007-9029-f75a9e9b9b7a"
      },
      "execution_count": 21,
      "outputs": [
        {
          "output_type": "stream",
          "name": "stdout",
          "text": [
            "A: ['B']\n",
            "B: ['A', 'D', 'E']\n",
            "C: ['C', 'A']\n",
            "D: ['C', 'E']\n",
            "E: ['B', 'A']\n",
            "\n",
            "Hasil BFS dari A:\n",
            "A B D E C \n",
            "\n",
            "Hasil DFS dari A:\n",
            "A B D C E \n",
            "\n",
            "List BFS dari A: ['A', 'B', 'D', 'E', 'C']\n",
            "\n",
            "Path dari B ke E: ['B', 'A', 'D', 'C', 'E']\n",
            "\n",
            "Apakah graph terhubung: True\n"
          ]
        }
      ]
    }
  ]
}
{
  "nbformat": 4,
  "nbformat_minor": 0,
  "metadata": {
    "colab": {
      "provenance": [],
      "authorship_tag": "ABX9TyOIAmeIO68hG8muc1ezZpZT",
      "include_colab_link": true
    },
    "kernelspec": {
      "name": "python3",
      "display_name": "Python 3"
    },
    "language_info": {
      "name": "python"
    }
  },
  "cells": [
    {
      "cell_type": "markdown",
      "metadata": {
        "id": "view-in-github",
        "colab_type": "text"
      },
      "source": [
        "<a href=\"https://colab.research.google.com/github/hakkanazrul06/PRAKTIKUMSTRUKTURDATA/blob/main/TUGAS_STRUKDAT_6.ipynb\" target=\"_parent\"><img src=\"https://colab.research.google.com/assets/colab-badge.svg\" alt=\"Open In Colab\"/></a>"
      ]
    },
    {
      "cell_type": "code",
      "execution_count": 19,
      "metadata": {
        "id": "XEZkKkS3G-y3",
        "colab": {
          "base_uri": "https://localhost:8080/"
        },
        "outputId": "bbd507da-8a54-4804-e80d-ffa3f45f8a63"
      },
      "outputs": [
        {
          "output_type": "stream",
          "name": "stdout",
          "text": [
            "Sorting termurah ke termahal:\n",
            "Ayam Geprek Kantin: Rp10000 - Rating: 4.5\n",
            "Ayam Geprek Nbo: Rp11000 - Rating: 4.8\n",
            "Ayam Geprek APK: Rp13000 - Rating: 4.9\n",
            "Ayam Geprek Kali: Rp13000 - Rating: 3.5\n",
            "Ayam Kremes Ijo: Rp14000 - Rating: 4.9\n",
            "\n",
            "Sorting rating tertinggi ke terendah:\n",
            "Ayam Geprek APK: Rp13000 - Rating: 4.9\n",
            "Ayam Kremes Ijo: Rp14000 - Rating: 4.9\n",
            "Ayam Geprek Nbo: Rp11000 - Rating: 4.8\n",
            "Ayam Geprek Kantin: Rp10000 - Rating: 4.5\n",
            "Ayam Geprek Kali: Rp13000 - Rating: 3.5\n"
          ]
        }
      ],
      "source": [
        "#bubble sort\n",
        "produk = [\n",
        "    {\"Nama produk\": \"Ayam Geprek Kantin\", \"harga\": 10000, \"rating\": 4.5},\n",
        "    {\"Nama produk\": \"Ayam Geprek Nbo\", \"harga\": 11000, \"rating\": 4.8},\n",
        "    {\"Nama produk\": \"Ayam Geprek APK\", \"harga\": 13000, \"rating\": 4.9},\n",
        "    {\"Nama produk\": \"Ayam Kremes Ijo\", \"harga\": 14000, \"rating\": 4.9},\n",
        "    {\"Nama produk\": \"Ayam Geprek Kali\", \"harga\": 13000, \"rating\": 3.5},\n",
        "]\n",
        "\n",
        "def sort_harga(produk):\n",
        "    n = len(produk)\n",
        "    for i in range(n):\n",
        "        for j in range(0, n-i-1):\n",
        "            if produk[j][\"harga\"] > produk[j+1][\"harga\"]:\n",
        "                produk[j], produk[j+1] = produk[j+1], produk[j]\n",
        "\n",
        "def sort_rating(produk):\n",
        "    n = len(produk)\n",
        "    for i in range(n):\n",
        "        for j in range(0, n-i-1):\n",
        "            if produk[j][\"rating\"] < produk[j+1][\"rating\"]:\n",
        "                produk[j], produk[j+1] = produk[j+1], produk[j]\n",
        "\n",
        "sort_dari_harga = produk.copy()\n",
        "sort_dari_rating = produk.copy()\n",
        "\n",
        "sort_harga(sort_dari_harga)\n",
        "sort_rating(sort_dari_rating)\n",
        "\n",
        "print(\"Sorting termurah ke termahal:\")\n",
        "for p in sort_dari_harga:\n",
        "    print(f\"{p['Nama produk']}: Rp{p['harga']} - Rating: {p['rating']}\")\n",
        "\n",
        "print(\"\\nSorting rating tertinggi ke terendah:\")\n",
        "for p in sort_dari_rating:\n",
        "    print(f\"{p['Nama produk']}: Rp{p['harga']} - Rating: {p['rating']}\")\n"
      ]
    }
  ]
}
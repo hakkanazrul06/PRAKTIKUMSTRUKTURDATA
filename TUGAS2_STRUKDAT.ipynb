{
  "nbformat": 4,
  "nbformat_minor": 0,
  "metadata": {
    "colab": {
      "provenance": [],
      "authorship_tag": "ABX9TyNN7SbyGI6U7SlVG3D2w75O",
      "include_colab_link": true
    },
    "kernelspec": {
      "name": "python3",
      "display_name": "Python 3"
    },
    "language_info": {
      "name": "python"
    }
  },
  "cells": [
    {
      "cell_type": "markdown",
      "metadata": {
        "id": "view-in-github",
        "colab_type": "text"
      },
      "source": [
        "<a href=\"https://colab.research.google.com/github/hakkanazrul06/PRAKTIKUMSTRUKTURDATA/blob/main/TUGAS2_STRUKDAT.ipynb\" target=\"_parent\"><img src=\"https://colab.research.google.com/assets/colab-badge.svg\" alt=\"Open In Colab\"/></a>"
      ]
    },
    {
      "cell_type": "code",
      "execution_count": 1,
      "metadata": {
        "colab": {
          "base_uri": "https://localhost:8080/"
        },
        "id": "cjJxkVpb2TBA",
        "outputId": "2e985473-fcce-4dd4-b64c-39a3814c64af"
      },
      "outputs": [
        {
          "output_type": "stream",
          "name": "stdout",
          "text": [
            "Masukkan nama satpam ke-1: a\n",
            "Masukkan nama satpam ke-2: b\n",
            "Masukkan nama satpam ke-3: c\n",
            "Masukkan nama satpam ke-4: d\n",
            "\n",
            "Jadwal Piket Satpam Selama 2 Minggu:\n",
            "\n",
            "Hari 1: a\n",
            "Hari 2: b\n",
            "Hari 3: c\n",
            "Hari 4: d\n",
            "Hari 5: a\n",
            "Hari 6: b\n",
            "Hari 7: c\n",
            "Hari 8: d\n",
            "Hari 9: a\n",
            "Hari 10: b\n",
            "Hari 11: c\n",
            "Hari 12: d\n",
            "Hari 13: a\n",
            "Hari 14: b\n"
          ]
        }
      ],
      "source": [
        "#tugas\n",
        "class SatpamNode:\n",
        "    def __init__(self, name):\n",
        "        self.name = name\n",
        "        self.next = None\n",
        "\n",
        "class JadwalSatpam:\n",
        "    def __init__(self):\n",
        "        self.head = None\n",
        "\n",
        "    def tambah_satpam(self, name):\n",
        "        new_node = SatpamNode(name)\n",
        "        if not self.head:\n",
        "            self.head = new_node\n",
        "            self.head.next = self.head\n",
        "        else:\n",
        "            temp = self.head\n",
        "            while temp.next != self.head:\n",
        "                temp = temp.next\n",
        "            temp.next = new_node\n",
        "            new_node.next = self.head\n",
        "\n",
        "    def jadwal_piket(self, hari):\n",
        "        if not self.head:\n",
        "            print(\"Tidak ada satpam di list.\")\n",
        "            return\n",
        "\n",
        "        print(\"\\nJadwal Piket Satpam Selama 2 Minggu:\\n\")\n",
        "        temp = self.head\n",
        "        for hari in range(1, hari + 1):\n",
        "            print(f\"Hari {hari}: {temp.name}\")\n",
        "            temp = temp.next\n",
        "\n",
        "jadwal = JadwalSatpam()\n",
        "\n",
        "for i in range(4):\n",
        "    name = input(f\"Masukkan nama satpam ke-{i+1}: \")\n",
        "    jadwal.tambah_satpam(name)\n",
        "\n",
        "jadwal.jadwal_piket(14)"
      ]
    }
  ]
}
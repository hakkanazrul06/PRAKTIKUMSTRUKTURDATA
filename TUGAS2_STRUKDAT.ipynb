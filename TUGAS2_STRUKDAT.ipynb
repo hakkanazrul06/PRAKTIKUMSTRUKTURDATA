{
  "nbformat": 4,
  "nbformat_minor": 0,
  "metadata": {
    "colab": {
      "provenance": [],
      "authorship_tag": "ABX9TyPqDhlIU2TmMNRG0UD/I1/8",
      "include_colab_link": true
    },
    "kernelspec": {
      "name": "python3",
      "display_name": "Python 3"
    },
    "language_info": {
      "name": "python"
    }
  },
  "cells": [
    {
      "cell_type": "markdown",
      "metadata": {
        "id": "view-in-github",
        "colab_type": "text"
      },
      "source": [
        "<a href=\"https://colab.research.google.com/github/hakkanazrul06/PRAKTIKUMSTRUKTURDATA/blob/main/TUGAS2_STRUKDAT.ipynb\" target=\"_parent\"><img src=\"https://colab.research.google.com/assets/colab-badge.svg\" alt=\"Open In Colab\"/></a>"
      ]
    },
    {
      "cell_type": "code",
      "execution_count": 5,
      "metadata": {
        "colab": {
          "base_uri": "https://localhost:8080/"
        },
        "id": "cjJxkVpb2TBA",
        "outputId": "3f4c02e8-c239-424f-a7ac-4ddcdc95d8db"
      },
      "outputs": [
        {
          "output_type": "stream",
          "name": "stdout",
          "text": [
            "Masukkan nama satpam ke-1: Hakkan\n",
            "Masukkan nama satpam ke-2: Assep\n",
            "Masukkan nama satpam ke-3: Rama\n",
            "Masukkan nama satpam ke-4: Nofiya\n",
            "\n",
            "Jadwal Piket Satpam Selama 2 Minggu:\n",
            "\n",
            "Hari 14: Hakkan\n",
            "Hari 14: Assep\n",
            "Hari 14: Rama\n",
            "Hari 14: Nofiya\n",
            "Hari 14: Hakkan\n",
            "Hari 14: Assep\n",
            "Hari 14: Rama\n",
            "Hari 14: Nofiya\n",
            "Hari 14: Hakkan\n",
            "Hari 14: Assep\n",
            "Hari 14: Rama\n",
            "Hari 14: Nofiya\n",
            "Hari 14: Hakkan\n",
            "Hari 14: Assep\n"
          ]
        }
      ],
      "source": [
        "#tugas\n",
        "class SatpamNode:\n",
        "    def __init__(self, name):\n",
        "        self.name = name\n",
        "        self.next = None\n",
        "\n",
        "class JadwalSatpam:\n",
        "    def __init__(self):\n",
        "        self.head = None\n",
        "\n",
        "    def tambah_satpam(self, name):\n",
        "        new_node = SatpamNode(name)\n",
        "        if not self.head:\n",
        "            self.head = new_node\n",
        "            self.head.next = self.head\n",
        "        else:\n",
        "            temp = self.head\n",
        "            while temp.next != self.head:\n",
        "                temp = temp.next\n",
        "            temp.next = new_node\n",
        "            new_node.next = self.head\n",
        "\n",
        "    def jadwal_piket(self, hari):\n",
        "        if not self.head:\n",
        "            print(\"Tidak ada satpam di list.\")\n",
        "            return\n",
        "\n",
        "        print(\"\\nJadwal Piket Satpam Selama 2 Minggu:\\n\")\n",
        "        temp = self.head\n",
        "        for day in range(1, hari + 1):\n",
        "            print(f\"Hari {hari}: {temp.name}\")\n",
        "            temp = temp.next\n",
        "\n",
        "jadwal = JadwalSatpam()\n",
        "\n",
        "for i in range(4):\n",
        "    name = input(f\"Masukkan nama satpam ke-{i+1}: \")\n",
        "    jadwal.tambah_satpam(name)\n",
        "\n",
        "jadwal.jadwal_piket(14)"
      ]
    }
  ]
}
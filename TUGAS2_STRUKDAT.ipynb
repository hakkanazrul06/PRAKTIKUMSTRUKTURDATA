{
  "nbformat": 4,
  "nbformat_minor": 0,
  "metadata": {
    "colab": {
      "provenance": [],
      "authorship_tag": "ABX9TyNN7SbyGI6U7SlVG3D2w75O",
      "include_colab_link": true
    },
    "kernelspec": {
      "name": "python3",
      "display_name": "Python 3"
    },
    "language_info": {
      "name": "python"
    }
  },
  "cells": [
    {
      "cell_type": "markdown",
      "metadata": {
        "id": "view-in-github",
        "colab_type": "text"
      },
      "source": [
        "<a href=\"https://colab.research.google.com/github/hakkanazrul06/PRAKTIKUMSTRUKTURDATA/blob/main/TUGAS2_STRUKDAT.ipynb\" target=\"_parent\"><img src=\"https://colab.research.google.com/assets/colab-badge.svg\" alt=\"Open In Colab\"/></a>"
      ]
    },
    {
      "cell_type": "code",
      "execution_count": 1,
      "metadata": {
        "colab": {
          "base_uri": "https://localhost:8080/"
        },
        "id": "cjJxkVpb2TBA",
        "outputId": "e5416211-0ff3-4f19-b271-dbe8b1d0eae9"
      },
      "outputs": [
        {
          "output_type": "stream",
          "name": "stdout",
          "text": [
            "Masukkan nama satpam ke-1: Hakkan\n",
            "Masukkan nama satpam ke-2: Assep\n",
            "Masukkan nama satpam ke-3: Rama\n",
            "Masukkan nama satpam ke-4: Nofiya\n",
            "\n",
            "Jadwal Piket Satpam Selama 2 Minggu:\n",
            "\n",
            "Hari 1: Hakkan\n",
            "Hari 2: Assep\n",
            "Hari 3: Rama\n",
            "Hari 4: Nofiya\n",
            "Hari 5: Hakkan\n",
            "Hari 6: Assep\n",
            "Hari 7: Rama\n",
            "Hari 8: Nofiya\n",
            "Hari 9: Hakkan\n",
            "Hari 10: Assep\n",
            "Hari 11: Rama\n",
            "Hari 12: Nofiya\n",
            "Hari 13: Hakkan\n",
            "Hari 14: Assep\n"
          ]
        }
      ],
      "source": [
        "#tugas\n",
        "class SatpamNode:\n",
        "    def __init__(self, name):\n",
        "        self.name = name\n",
        "        self.next = None\n",
        "\n",
        "class JadwalSatpam:\n",
        "    def __init__(self):\n",
        "        self.head = None\n",
        "\n",
        "    def tambah_satpam(self, name):\n",
        "        new_node = SatpamNode(name)\n",
        "        if not self.head:\n",
        "            self.head = new_node\n",
        "            self.head.next = self.head\n",
        "        else:\n",
        "            temp = self.head\n",
        "            while temp.next != self.head:\n",
        "                temp = temp.next\n",
        "            temp.next = new_node\n",
        "            new_node.next = self.head\n",
        "\n",
        "    def jadwal_piket(self, hari):\n",
        "        if not self.head:\n",
        "            print(\"Tidak ada satpam di list.\")\n",
        "            return\n",
        "\n",
        "        print(\"\\nJadwal Piket Satpam Selama 2 Minggu:\\n\")\n",
        "        temp = self.head\n",
        "        for hari in range(1, hari + 1):\n",
        "            print(f\"Hari {hari}: {temp.name}\")\n",
        "            temp = temp.next\n",
        "\n",
        "jadwal = JadwalSatpam()\n",
        "\n",
        "for i in range(4):\n",
        "    name = input(f\"Masukkan nama satpam ke-{i+1}: \")\n",
        "    jadwal.tambah_satpam(name)\n",
        "\n",
        "jadwal.jadwal_piket(14)"
      ]
    }
  ]
}
{
  "nbformat": 4,
  "nbformat_minor": 0,
  "metadata": {
    "colab": {
      "provenance": [],
      "authorship_tag": "ABX9TyMs2O7OLUs71b75oejqDbYA",
      "include_colab_link": true
    },
    "kernelspec": {
      "name": "python3",
      "display_name": "Python 3"
    },
    "language_info": {
      "name": "python"
    }
  },
  "cells": [
    {
      "cell_type": "markdown",
      "metadata": {
        "id": "view-in-github",
        "colab_type": "text"
      },
      "source": [
        "<a href=\"https://colab.research.google.com/github/hakkanazrul06/PRAKTIKUMSTRUKTURDATA/blob/main/Treasure_Hunt1.ipynb\" target=\"_parent\"><img src=\"https://colab.research.google.com/assets/colab-badge.svg\" alt=\"Open In Colab\"/></a>"
      ]
    },
    {
      "cell_type": "code",
      "execution_count": null,
      "metadata": {
        "colab": {
          "base_uri": "https://localhost:8080/"
        },
        "id": "od-T1mNwqgwP",
        "outputId": "ef8e13d4-4d54-4457-d151-cb48a23c085a"
      },
      "outputs": [
        {
          "output_type": "stream",
          "name": "stdout",
          "text": [
            "Masukkan ukuran peta: 2\n",
            "Selamat Datang, Ukuran peta 2 lokasi (0 hingga 1).\n",
            "\n",
            " Harta karun telah disembunyikan, Temukan harta karun.\n",
            "\n",
            "Peta saat ini:  ['_', '_']\n",
            "Masukkan lokasi yang benar (0-1): 1\n",
            "Betul\n",
            "Selesai.\n"
          ]
        }
      ],
      "source": [
        "size = int(input(\"Masukkan ukuran peta: \"))\n",
        "treasure_map = [\"_\" for _ in range (size)]\n",
        "\n",
        "print(f\"Selamat Datang, Ukuran peta {size} lokasi (0 hingga {size-1}).\")\n",
        "\n",
        "import random\n",
        "treasure_index = random.randint(0, size-1)\n",
        "treasure_map[treasure_index] = \"X\"\n",
        "\n",
        "def play_treasure_hunt():\n",
        "  print(\"\\n Harta karun telah disembunyikan, Temukan harta karun.\")\n",
        "  while True:\n",
        "    print(\"\\nPeta saat ini: \", [\"_\" for _ in range(size)])\n",
        "\n",
        "    try:\n",
        "      guess = int(input(f\"Masukkan lokasi yang benar (0-{size-1}): \"))\n",
        "\n",
        "    except ValueError:\n",
        "      print (\"Masukkan angka yang benar\")\n",
        "      continue\n",
        "\n",
        "    if guess < 0 or guess >= size:\n",
        "        print(\"Indeks tidak valid, pilih antara 0 hingga \", size-1)\n",
        "        continue\n",
        "\n",
        "    if treasure_map[guess] == \"X\":\n",
        "        print(\"Betul\")\n",
        "        break\n",
        "\n",
        "    else:\n",
        "       print(\"Salah, coba lagi.\")\n",
        "  print(\"Selesai.\")\n",
        "\n",
        "play_treasure_hunt()\n",
        "\n",
        "\n",
        "\n",
        "\n"
      ]
    }
  ]
}